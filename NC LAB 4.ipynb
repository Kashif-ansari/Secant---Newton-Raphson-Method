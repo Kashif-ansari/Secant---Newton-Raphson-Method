{
 "cells": [
  {
   "cell_type": "code",
   "execution_count": 26,
   "metadata": {},
   "outputs": [
    {
     "name": "stdout",
     "output_type": "stream",
     "text": [
      "X 2 0.5\n",
      "X 3 0.6363636363636364\n",
      "X 4 0.6900523560209424\n",
      "X 5 0.6820204196481856\n",
      "X 6 0.6823257814098928\n",
      "X 7 0.6823278043590257\n"
     ]
    }
   ],
   "source": [
    "def f(x):\n",
    "    return x**3+x-1\n",
    "\n",
    "def Secant(x0,x1):\n",
    "    for i in range(15):\n",
    "        if (f(x1)-f(x0)) != 0:\n",
    "            x = x1 - ((f(x1)*(x1-x0))/(f(x1)-f(x0)))\n",
    "            print(\"X\",i+2,x)\n",
    "            x0 = x1\n",
    "            x1 = x\n",
    "            tol = abs((x1-x0)/x1)\n",
    "            if  tol <= 0.01:\n",
    "                break\n",
    "        else:\n",
    "            break\n",
    "Secant(0,1)\n",
    "x = 0\n",
    "y = 3\n",
    "z = 4"
   ]
  },
  {
   "cell_type": "code",
   "execution_count": 4,
   "metadata": {},
   "outputs": [
    {
     "name": "stdout",
     "output_type": "stream",
     "text": [
      "X 2 0.96188\n",
      "X 3 0.96433\n",
      "X 4 0.96433\n"
     ]
    }
   ],
   "source": [
    "import math as m\n",
    "import symbol as s\n",
    "def f(x):\n",
    "    return x-0.8-0.2*m.sin(x)\n",
    "\n",
    "def Secant(x0,x1):\n",
    "    for i in range(15):\n",
    "        if (f(x1)-f(x0)) != 0:\n",
    "            x = x1 - ((f(x1)*(x1-x0))/(f(x1)-f(x0)))\n",
    "            x= round(x,5)\n",
    "            print(\"X\",i+2,x)\n",
    "            x0 = x1\n",
    "            x1 = x\n",
    "            tol = abs((x1-x0)/x1)\n",
    "            if  tol <= 0.0001:\n",
    "                break\n",
    "        else:\n",
    "            break\n",
    "Secant(0,1)"
   ]
  },
  {
   "cell_type": "code",
   "execution_count": 7,
   "metadata": {},
   "outputs": [
    {
     "name": "stdout",
     "output_type": "stream",
     "text": [
      "X 2 1.44983\n",
      "X 3 1.41004\n",
      "X 4 1.41245\n",
      "X 5 1.41239\n"
     ]
    }
   ],
   "source": [
    "import math as m\n",
    "import symbol as s\n",
    "def f(x):\n",
    "    return x**2-(4*x)+4-(m.log(x))\n",
    "\n",
    "def Secant(x0,x1):\n",
    "    for i in range(15):\n",
    "        if (f(x1)-f(x0)) != 0:\n",
    "            x = x1 - ((f(x1)*(x1-x0))/(f(x1)-f(x0)))\n",
    "            x= round(x,5)\n",
    "            print(\"X\",i+2,x)\n",
    "            x0 = x1\n",
    "            x1 = x\n",
    "            tol = abs((x1-x0)/x1)\n",
    "            if  tol <= 0.0001:\n",
    "                break\n",
    "        else:\n",
    "            break\n",
    "Secant(0.5,1.5)"
   ]
  },
  {
   "cell_type": "markdown",
   "metadata": {},
   "source": [
    "# Newton's Raphson Method"
   ]
  },
  {
   "cell_type": "code",
   "execution_count": 52,
   "metadata": {},
   "outputs": [
    {
     "name": "stdout",
     "output_type": "stream",
     "text": [
      "X 2 0.75\n",
      "X 3 0.686046511627907\n",
      "X 4 0.6823395825973142\n",
      "X 5 0.6823278039465127\n",
      "X 6 0.6823278038280194\n"
     ]
    }
   ],
   "source": [
    "import math as m\n",
    "import symbol as s\n",
    "def f(x):\n",
    "    return x**3+x-1\n",
    "\n",
    "def fd(x):\n",
    "    return 3*x**2+1\n",
    "\n",
    "def Newtons(x0):\n",
    "    for i in range(5):\n",
    "        if f(x0) != 0:\n",
    "            x = x0 -(f(x0)/fd(x0))\n",
    "            print(\"X\",i+2,x)\n",
    "            x0 = x\n",
    "        else:\n",
    "            break\n",
    "        \n",
    "Newtons(1)"
   ]
  },
  {
   "cell_type": "markdown",
   "metadata": {},
   "source": [
    "# hello\n"
   ]
  },
  {
   "cell_type": "code",
   "execution_count": 13,
   "metadata": {},
   "outputs": [
    {
     "name": "stdout",
     "output_type": "stream",
     "text": [
      "X 2 0.6452449276589148\n",
      "X 3 0.6242782526155476\n",
      "X 4 0.6241845796932166\n",
      "X 5 0.6241845778041223\n"
     ]
    }
   ],
   "source": [
    "import math as m\n",
    "import symbol as s\n",
    "def f(x):\n",
    "    return m.cos(x)-1.3*x\n",
    "\n",
    "def fd(x):\n",
    "    return -m.sin(x)-1.3\n",
    "\n",
    "def Newtons(x0):\n",
    "    for i in range(5):\n",
    "        if f(x0) != 0:\n",
    "            x = x0 -(f(x0)/fd(x0))\n",
    "            print(\"X\",i+2,x)\n",
    "            tol = abs((x0-x)/x0)\n",
    "            if tol <= 0.0001:\n",
    "                break\n",
    "            x0 = x\n",
    "        else:\n",
    "            break\n",
    "        \n",
    "Newtons(1)"
   ]
  },
  {
   "cell_type": "code",
   "execution_count": 16,
   "metadata": {},
   "outputs": [
    {
     "name": "stdout",
     "output_type": "stream",
     "text": [
      "X 2 1.415243860856226\n",
      "X 3 1.276716115808079\n",
      "X 4 1.2570408994423494\n",
      "X 5 1.2566235106319867\n",
      "X 6 1.2566233225056072\n"
     ]
    }
   ],
   "source": [
    "import math as m\n",
    "import symbol as s\n",
    "def f(x):\n",
    "    return x*m.cos(x)-(2*x**2)+(3*x)-1\n",
    "\n",
    "def fd(x):\n",
    "    return -x*m.sin(x) - (4*x) + m.cos(x) + 3\n",
    "\n",
    "def Newtons(x0):\n",
    "    for i in range(15):\n",
    "        if f(x0) != 0:\n",
    "            x = x0 -(f(x0)/fd(x0))\n",
    "            print(\"X\",i+2,x)\n",
    "            tol = abs((x0-x))\n",
    "            if tol <= 0.0001:\n",
    "                break\n",
    "            x0 = x\n",
    "        else:\n",
    "            break\n",
    "        \n",
    "Newtons(1)"
   ]
  },
  {
   "cell_type": "code",
   "execution_count": 97,
   "metadata": {},
   "outputs": [
    {
     "name": "stdout",
     "output_type": "stream",
     "text": [
      "-x*sin(x) - 4*x + cos(x) + 3\n"
     ]
    }
   ],
   "source": [
    "import math as m\n",
    "import sympy as s\n",
    "x=s.Symbol('x')\n",
    "eq = x*s.cos(x)-(2*x**2)+(3*x)-1\n",
    "ans = s.diff(eq)\n",
    "print(ans)"
   ]
  },
  {
   "cell_type": "code",
   "execution_count": null,
   "metadata": {},
   "outputs": [],
   "source": []
  }
 ],
 "metadata": {
  "kernelspec": {
   "display_name": "Python 3",
   "language": "python",
   "name": "python3"
  },
  "language_info": {
   "codemirror_mode": {
    "name": "ipython",
    "version": 3
   },
   "file_extension": ".py",
   "mimetype": "text/x-python",
   "name": "python",
   "nbconvert_exporter": "python",
   "pygments_lexer": "ipython3",
   "version": "3.8.8"
  }
 },
 "nbformat": 4,
 "nbformat_minor": 2
}
